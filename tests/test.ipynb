{
 "cells": [
  {
   "cell_type": "code",
   "execution_count": 4,
   "metadata": {},
   "outputs": [],
   "source": [
    "import partitura"
   ]
  },
  {
   "cell_type": "code",
   "execution_count": 5,
   "metadata": {},
   "outputs": [
    {
     "data": {
      "text/plain": [
       "2"
      ]
     },
     "execution_count": 5,
     "metadata": {},
     "output_type": "execute_result"
    }
   ],
   "source": [
    "parts = partitura.load_score(r\"C:\\Users\\fosca\\Desktop\\CNAM\\partitura\\tests\\data\\musicxml\\test_merge_voices2.xml\")\n",
    "parts[1].number_of_staves"
   ]
  },
  {
   "cell_type": "code",
   "execution_count": 6,
   "metadata": {},
   "outputs": [],
   "source": [
    "partitura.render(parts[1])"
   ]
  },
  {
   "cell_type": "code",
   "execution_count": 8,
   "metadata": {},
   "outputs": [],
   "source": [
    "merged = partitura.score.merge_parts(parts)"
   ]
  },
  {
   "cell_type": "code",
   "execution_count": 9,
   "metadata": {},
   "outputs": [],
   "source": [
    "partitura.render(merged)"
   ]
  },
  {
   "cell_type": "code",
   "execution_count": 11,
   "metadata": {},
   "outputs": [],
   "source": [
    "parts = partitura.load_score(r\"C:\\Users\\fosca\\Desktop\\CNAM\\partitura\\tests\\data\\musicxml\\test_merge_voices2.xml\")\n",
    "merged = partitura.score.merge_parts(parts, reassign=\"staff\")\n",
    "partitura.render(merged)"
   ]
  },
  {
   "cell_type": "code",
   "execution_count": null,
   "metadata": {},
   "outputs": [],
   "source": [
    "merged = partitura.score.merge_parts(parts)"
   ]
  }
 ],
 "metadata": {
  "interpreter": {
   "hash": "026d29534bbf2a94953c2fa95040253aaa49038ae772501eb71cde604d8881b3"
  },
  "kernelspec": {
   "display_name": "Python 3.7.10 ('mir_research')",
   "language": "python",
   "name": "python3"
  },
  "language_info": {
   "codemirror_mode": {
    "name": "ipython",
    "version": 3
   },
   "file_extension": ".py",
   "mimetype": "text/x-python",
   "name": "python",
   "nbconvert_exporter": "python",
   "pygments_lexer": "ipython3",
   "version": "3.7.10"
  },
  "orig_nbformat": 4
 },
 "nbformat": 4,
 "nbformat_minor": 2
}
